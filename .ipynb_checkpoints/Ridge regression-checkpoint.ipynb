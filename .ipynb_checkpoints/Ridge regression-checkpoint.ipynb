{
 "cells": [
  {
   "cell_type": "code",
   "execution_count": 1,
   "metadata": {},
   "outputs": [
    {
     "name": "stdout",
     "output_type": "stream",
     "text": [
      "--2021-06-01 05:15:24--  https://archive.ics.uci.edu/ml/machine-learning-databases/wine-quality/winequality-red.csv\n",
      "archive.ics.uci.edu (archive.ics.uci.edu) をDNSに問いあわせています... 128.195.10.252\n",
      "archive.ics.uci.edu (archive.ics.uci.edu)|128.195.10.252|:443 に接続しています... 接続しました。\n",
      "HTTP による接続要求を送信しました、応答を待っています... 200 OK\n",
      "長さ: 84199 (82K) [application/x-httpd-php]\n",
      "`winequality-red.csv' に保存中\n",
      "\n",
      "winequality-red.csv 100%[===================>]  82.23K   311KB/s 時間 0.3s       \n",
      "\n",
      "2021-06-01 05:15:25 (311 KB/s) - `winequality-red.csv' へ保存完了 [84199/84199]\n",
      "\n",
      "Untitled.ipynb      winequality-red.csv\n"
     ]
    }
   ],
   "source": [
    "!wget https://archive.ics.uci.edu/ml/machine-learning-databases/wine-quality/winequality-red.csv\n",
    "!ls"
   ]
  },
  {
   "cell_type": "code",
   "execution_count": 2,
   "metadata": {},
   "outputs": [
    {
     "name": "stdout",
     "output_type": "stream",
     "text": [
      "                    Name  Coefficients\n",
      "1       volatile acidity     -0.193967\n",
      "6   total sulfur dioxide     -0.107356\n",
      "4              chlorides     -0.088183\n",
      "8                     pH     -0.063842\n",
      "2            citric acid     -0.035553\n",
      "7                density     -0.033737\n",
      "3         residual sugar      0.023019\n",
      "0          fixed acidity      0.043497\n",
      "5    free sulfur dioxide      0.045606\n",
      "9              sulphates      0.155277\n",
      "10               alcohol      0.294243 \n",
      "\n",
      "Mean squared err.  0.41676716722140794 \n",
      "\n"
     ]
    }
   ],
   "source": [
    "import pandas as pd\n",
    "import numpy as np\n",
    "from sklearn.preprocessing import StandardScaler\n",
    "#MinMaxScalerによる正則化\n",
    "from sklearn.preprocessing import MinMaxScaler\n",
    "from sklearn.metrics import mean_squared_error\n",
    "#クロスバリデーションとは、データを分割して学習、判定を繰り返す検証方法\n",
    "from sklearn.model_selection import cross_val_score\n",
    "from sklearn import linear_model\n",
    "from sklearn.linear_model import Ridge\n",
    "import io\n",
    "\n",
    "# データの読み込み\n",
    "wine = pd.read_csv('winequality-red.csv', header=0,  sep=\";\")\n",
    "\n",
    "# 利用する特徴量リスト\n",
    "featureName=['fixed acidity', 'volatile acidity', 'citric acid', \n",
    "             'residual sugar', 'chlorides', 'free sulfur dioxide', \n",
    "             'total sulfur dioxide', 'density', 'pH', 'sulphates', 'alcohol']\n",
    "\n",
    "# 予測したい目標値\n",
    "objectiveName=['quality']\n",
    "\n",
    "# 特徴量のみのデータを作成\n",
    "wine_except_quality = wine.drop(\"quality\", axis=1)\n",
    "X = wine_except_quality.values\n",
    "\n",
    "# スケーリング\n",
    "sc = StandardScaler()\n",
    "X = sc.fit_transform(X)\n",
    "\n",
    "# 目標値のデータを作成\n",
    "y = wine['quality'].values\n",
    "\n",
    "# 正則化パラメータ\n",
    "alphas = [0]\n",
    "\n",
    "for a in alphas:\n",
    "    \n",
    "    # リッジ回帰のモデルを学習\n",
    "    #fit_intercept: 切片\n",
    "    #nomalize: 回帰式計算の前に最適化\n",
    "    #copy_X: 係数\n",
    "    #alpha: 正則化パラメータ\n",
    "    clf = Ridge(fit_intercept=True, normalize=True,  copy_X=True, alpha=a)\n",
    "    clf.fit(X, y)\n",
    "\n",
    "    # 訓練誤差\n",
    "    y_pred=clf.predict(X)\n",
    "    #個々のターゲットのスコアまたは損失を平均する方法を指定: uniform_average\n",
    "    #uniform_average: 出力に対して均一に重み付けされた平均を指定\n",
    "    mse=mean_squared_error(y, y_pred, multioutput='uniform_average')\n",
    "\n",
    "    # 交差検証によるテスト誤差の評価\n",
    "    #cv: データの分割数\n",
    "    scores = cross_val_score(clf, X, y, scoring=\"neg_mean_squared_error\", cv=10)\n",
    "    \n",
    "    # モデルのパラメータ\n",
    "    print(pd.DataFrame({\"Name\":wine_except_quality.columns,\n",
    "                   \"Coefficients\":clf.coef_}).sort_values(by='Coefficients') ,\"\\n\")\n",
    " \n",
    "    #results\n",
    "    print( \"Mean squared err. \", mse, \"\\n\")\n",
    "\n"
   ]
  },
  {
   "cell_type": "code",
   "execution_count": null,
   "metadata": {},
   "outputs": [],
   "source": []
  }
 ],
 "metadata": {
  "kernelspec": {
   "display_name": "Python 3",
   "language": "python",
   "name": "python3"
  },
  "language_info": {
   "codemirror_mode": {
    "name": "ipython",
    "version": 3
   },
   "file_extension": ".py",
   "mimetype": "text/x-python",
   "name": "python",
   "nbconvert_exporter": "python",
   "pygments_lexer": "ipython3",
   "version": "3.8.5"
  }
 },
 "nbformat": 4,
 "nbformat_minor": 4
}
